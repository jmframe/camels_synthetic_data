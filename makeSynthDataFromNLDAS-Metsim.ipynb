{
 "cells": [
  {
   "cell_type": "code",
   "execution_count": null,
   "metadata": {},
   "outputs": [],
   "source": [
    "###############################\n",
    "#Started on Thu January 23 2020\n",
    "#@author: Jonathan Frame\n",
    "###############################\n",
    "# This program is designed to generate a synthetic dataset of atmospheric forcing conditions that \n",
    "# match the NLDAS data from 1980 - 2014.\n",
    "# The synthetic record can be extended out as far as the user likes,\n",
    "# and the user can add nonstationary conditions by adjusting the Parameters controlling the distributions."
   ]
  },
  {
   "cell_type": "code",
   "execution_count": 3,
   "metadata": {},
   "outputs": [
    {
     "name": "stdout",
     "output_type": "stream",
     "text": [
      "# This is an example of an input file for MetSim\n",
      "[MetSim]\n",
      "#out_vars = ['temp', 'prec', 'shortwave', 'longwave', 'vapor_pressure', 'rel_humid', 'air_pressure', 'wind']\n",
      "\n",
      "# Time step in minutes\n",
      "time_step = 180\n",
      "\n",
      "# Forcings begin here (year/month/day:hour) (hour optional)\n",
      "start = 1950/1/1\n",
      "\n",
      "# Forcings end at this date (year/month/day)\n",
      "stop = 1950/1/31\n",
      "\n",
      "# Input and output directories\n",
      "forcing = ./input/cli_test.nc\n",
      "domain  = ./input/cli_domain.nc\n",
      "state =   ./input/cli_state.nc\n",
      "\n",
      "forcing_fmt = netcdf\n",
      "\n",
      "out_dir = ./output\n",
      "output_prefix = test\n",
      "\n",
      "prec_type = triangle\n",
      "\n",
      "[chunks]\n",
      "lat = 3\n",
      "lon = 1\n",
      "\n",
      "[forcing_vars]\n",
      "prec  = Prec\n",
      "t_max = Tmax\n",
      "t_min = Tmin\n",
      "wind  = wind\n",
      "\n",
      "[state_vars]\n",
      "prec  = prec\n",
      "t_max = t_max\n",
      "t_min = t_min\n",
      "\n",
      "[domain_vars]\n",
      "lat  = lat\n",
      "lon  = lon\n",
      "mask = mask\n",
      "elev = elev\n",
      "t_pk = t_pk\n",
      "dur  = dur\n",
      "\n"
     ]
    }
   ],
   "source": [
    "%%bash\n",
    "cat test.conf\n",
    "echo \"\""
   ]
  },
  {
   "cell_type": "code",
   "execution_count": 5,
   "metadata": {},
   "outputs": [
    {
     "name": "stdout",
     "output_type": "stream",
     "text": [
      "/home/jmframe/programs/anaconda3/envs/metsim_whw/bin/ms\n"
     ]
    }
   ],
   "source": [
    "%%bash\n",
    "source activate metsim_whw\n",
    "which ms"
   ]
  },
  {
   "cell_type": "code",
   "execution_count": 11,
   "metadata": {
    "scrolled": true
   },
   "outputs": [
    {
     "name": "stderr",
     "output_type": "stream",
     "text": [
      "/home/jmframe/programs/anaconda3/envs/metsim_whw/lib/python3.6/site-packages/metsim/metsim.py:205: FutureWarning: The pandas.datetime class is deprecated and will be removed from pandas in a future version. Import from datetime instead.\n",
      "  self.params[p] = pd.datetime(year, month, day)\n",
      "Traceback (most recent call last):\n",
      "  File \"/home/jmframe/programs/anaconda3/envs/metsim_whw/bin/ms\", line 10, in <module>\n",
      "    sys.exit(main())\n",
      "  File \"/home/jmframe/programs/anaconda3/envs/metsim_whw/lib/python3.6/site-packages/metsim/cli/ms.py\", line 99, in main\n",
      "    ms.run()\n",
      "  File \"/home/jmframe/programs/anaconda3/envs/metsim_whw/lib/python3.6/site-packages/metsim/metsim.py\", line 273, in run\n",
      "    self.setup_netcdf_output(filename, times)\n",
      "  File \"/home/jmframe/programs/anaconda3/envs/metsim_whw/lib/python3.6/site-packages/metsim/metsim.py\", line 304, in setup_netcdf_output\n",
      "    with Dataset(filename, mode=\"w\") as ncout:\n",
      "  File \"netCDF4/_netCDF4.pyx\", line 2321, in netCDF4._netCDF4.Dataset.__init__\n",
      "  File \"netCDF4/_netCDF4.pyx\", line 1885, in netCDF4._netCDF4._ensure_nc_success\n",
      "PermissionError: [Errno 13] Permission denied: b'/home/NearingLab/projects/jmframe/CAMELS_synthData/output/test_19500101-19500131.nc'\n"
     ]
    },
    {
     "ename": "CalledProcessError",
     "evalue": "Command 'b'source activate metsim_whw\\nms MetSim-tutorial-master/test.conf -v -n 2\\n'' returned non-zero exit status 1.",
     "output_type": "error",
     "traceback": [
      "\u001b[0;31m---------------------------------------------------------------------------\u001b[0m",
      "\u001b[0;31mCalledProcessError\u001b[0m                        Traceback (most recent call last)",
      "\u001b[0;32m<ipython-input-11-ecd9b17fed8b>\u001b[0m in \u001b[0;36m<module>\u001b[0;34m\u001b[0m\n\u001b[0;32m----> 1\u001b[0;31m \u001b[0mget_ipython\u001b[0m\u001b[0;34m(\u001b[0m\u001b[0;34m)\u001b[0m\u001b[0;34m.\u001b[0m\u001b[0mrun_cell_magic\u001b[0m\u001b[0;34m(\u001b[0m\u001b[0;34m'bash'\u001b[0m\u001b[0;34m,\u001b[0m \u001b[0;34m''\u001b[0m\u001b[0;34m,\u001b[0m \u001b[0;34m'source activate metsim_whw\\nms MetSim-tutorial-master/test.conf -v -n 2\\n'\u001b[0m\u001b[0;34m)\u001b[0m\u001b[0;34m\u001b[0m\u001b[0;34m\u001b[0m\u001b[0m\n\u001b[0m",
      "\u001b[0;32m~/programs/anaconda3/lib/python3.7/site-packages/IPython/core/interactiveshell.py\u001b[0m in \u001b[0;36mrun_cell_magic\u001b[0;34m(self, magic_name, line, cell)\u001b[0m\n\u001b[1;32m   2321\u001b[0m             \u001b[0mmagic_arg_s\u001b[0m \u001b[0;34m=\u001b[0m \u001b[0mself\u001b[0m\u001b[0;34m.\u001b[0m\u001b[0mvar_expand\u001b[0m\u001b[0;34m(\u001b[0m\u001b[0mline\u001b[0m\u001b[0;34m,\u001b[0m \u001b[0mstack_depth\u001b[0m\u001b[0;34m)\u001b[0m\u001b[0;34m\u001b[0m\u001b[0;34m\u001b[0m\u001b[0m\n\u001b[1;32m   2322\u001b[0m             \u001b[0;32mwith\u001b[0m \u001b[0mself\u001b[0m\u001b[0;34m.\u001b[0m\u001b[0mbuiltin_trap\u001b[0m\u001b[0;34m:\u001b[0m\u001b[0;34m\u001b[0m\u001b[0;34m\u001b[0m\u001b[0m\n\u001b[0;32m-> 2323\u001b[0;31m                 \u001b[0mresult\u001b[0m \u001b[0;34m=\u001b[0m \u001b[0mfn\u001b[0m\u001b[0;34m(\u001b[0m\u001b[0mmagic_arg_s\u001b[0m\u001b[0;34m,\u001b[0m \u001b[0mcell\u001b[0m\u001b[0;34m)\u001b[0m\u001b[0;34m\u001b[0m\u001b[0;34m\u001b[0m\u001b[0m\n\u001b[0m\u001b[1;32m   2324\u001b[0m             \u001b[0;32mreturn\u001b[0m \u001b[0mresult\u001b[0m\u001b[0;34m\u001b[0m\u001b[0;34m\u001b[0m\u001b[0m\n\u001b[1;32m   2325\u001b[0m \u001b[0;34m\u001b[0m\u001b[0m\n",
      "\u001b[0;32m~/programs/anaconda3/lib/python3.7/site-packages/IPython/core/magics/script.py\u001b[0m in \u001b[0;36mnamed_script_magic\u001b[0;34m(line, cell)\u001b[0m\n\u001b[1;32m    140\u001b[0m             \u001b[0;32melse\u001b[0m\u001b[0;34m:\u001b[0m\u001b[0;34m\u001b[0m\u001b[0;34m\u001b[0m\u001b[0m\n\u001b[1;32m    141\u001b[0m                 \u001b[0mline\u001b[0m \u001b[0;34m=\u001b[0m \u001b[0mscript\u001b[0m\u001b[0;34m\u001b[0m\u001b[0;34m\u001b[0m\u001b[0m\n\u001b[0;32m--> 142\u001b[0;31m             \u001b[0;32mreturn\u001b[0m \u001b[0mself\u001b[0m\u001b[0;34m.\u001b[0m\u001b[0mshebang\u001b[0m\u001b[0;34m(\u001b[0m\u001b[0mline\u001b[0m\u001b[0;34m,\u001b[0m \u001b[0mcell\u001b[0m\u001b[0;34m)\u001b[0m\u001b[0;34m\u001b[0m\u001b[0;34m\u001b[0m\u001b[0m\n\u001b[0m\u001b[1;32m    143\u001b[0m \u001b[0;34m\u001b[0m\u001b[0m\n\u001b[1;32m    144\u001b[0m         \u001b[0;31m# write a basic docstring:\u001b[0m\u001b[0;34m\u001b[0m\u001b[0;34m\u001b[0m\u001b[0;34m\u001b[0m\u001b[0m\n",
      "\u001b[0;32m<decorator-gen-109>\u001b[0m in \u001b[0;36mshebang\u001b[0;34m(self, line, cell)\u001b[0m\n",
      "\u001b[0;32m~/programs/anaconda3/lib/python3.7/site-packages/IPython/core/magic.py\u001b[0m in \u001b[0;36m<lambda>\u001b[0;34m(f, *a, **k)\u001b[0m\n\u001b[1;32m    185\u001b[0m     \u001b[0;31m# but it's overkill for just that one bit of state.\u001b[0m\u001b[0;34m\u001b[0m\u001b[0;34m\u001b[0m\u001b[0;34m\u001b[0m\u001b[0m\n\u001b[1;32m    186\u001b[0m     \u001b[0;32mdef\u001b[0m \u001b[0mmagic_deco\u001b[0m\u001b[0;34m(\u001b[0m\u001b[0marg\u001b[0m\u001b[0;34m)\u001b[0m\u001b[0;34m:\u001b[0m\u001b[0;34m\u001b[0m\u001b[0;34m\u001b[0m\u001b[0m\n\u001b[0;32m--> 187\u001b[0;31m         \u001b[0mcall\u001b[0m \u001b[0;34m=\u001b[0m \u001b[0;32mlambda\u001b[0m \u001b[0mf\u001b[0m\u001b[0;34m,\u001b[0m \u001b[0;34m*\u001b[0m\u001b[0ma\u001b[0m\u001b[0;34m,\u001b[0m \u001b[0;34m**\u001b[0m\u001b[0mk\u001b[0m\u001b[0;34m:\u001b[0m \u001b[0mf\u001b[0m\u001b[0;34m(\u001b[0m\u001b[0;34m*\u001b[0m\u001b[0ma\u001b[0m\u001b[0;34m,\u001b[0m \u001b[0;34m**\u001b[0m\u001b[0mk\u001b[0m\u001b[0;34m)\u001b[0m\u001b[0;34m\u001b[0m\u001b[0;34m\u001b[0m\u001b[0m\n\u001b[0m\u001b[1;32m    188\u001b[0m \u001b[0;34m\u001b[0m\u001b[0m\n\u001b[1;32m    189\u001b[0m         \u001b[0;32mif\u001b[0m \u001b[0mcallable\u001b[0m\u001b[0;34m(\u001b[0m\u001b[0marg\u001b[0m\u001b[0;34m)\u001b[0m\u001b[0;34m:\u001b[0m\u001b[0;34m\u001b[0m\u001b[0;34m\u001b[0m\u001b[0m\n",
      "\u001b[0;32m~/programs/anaconda3/lib/python3.7/site-packages/IPython/core/magics/script.py\u001b[0m in \u001b[0;36mshebang\u001b[0;34m(self, line, cell)\u001b[0m\n\u001b[1;32m    243\u001b[0m             \u001b[0msys\u001b[0m\u001b[0;34m.\u001b[0m\u001b[0mstderr\u001b[0m\u001b[0;34m.\u001b[0m\u001b[0mflush\u001b[0m\u001b[0;34m(\u001b[0m\u001b[0;34m)\u001b[0m\u001b[0;34m\u001b[0m\u001b[0;34m\u001b[0m\u001b[0m\n\u001b[1;32m    244\u001b[0m         \u001b[0;32mif\u001b[0m \u001b[0margs\u001b[0m\u001b[0;34m.\u001b[0m\u001b[0mraise_error\u001b[0m \u001b[0;32mand\u001b[0m \u001b[0mp\u001b[0m\u001b[0;34m.\u001b[0m\u001b[0mreturncode\u001b[0m\u001b[0;34m!=\u001b[0m\u001b[0;36m0\u001b[0m\u001b[0;34m:\u001b[0m\u001b[0;34m\u001b[0m\u001b[0;34m\u001b[0m\u001b[0m\n\u001b[0;32m--> 245\u001b[0;31m             \u001b[0;32mraise\u001b[0m \u001b[0mCalledProcessError\u001b[0m\u001b[0;34m(\u001b[0m\u001b[0mp\u001b[0m\u001b[0;34m.\u001b[0m\u001b[0mreturncode\u001b[0m\u001b[0;34m,\u001b[0m \u001b[0mcell\u001b[0m\u001b[0;34m,\u001b[0m \u001b[0moutput\u001b[0m\u001b[0;34m=\u001b[0m\u001b[0mout\u001b[0m\u001b[0;34m,\u001b[0m \u001b[0mstderr\u001b[0m\u001b[0;34m=\u001b[0m\u001b[0merr\u001b[0m\u001b[0;34m)\u001b[0m\u001b[0;34m\u001b[0m\u001b[0;34m\u001b[0m\u001b[0m\n\u001b[0m\u001b[1;32m    246\u001b[0m \u001b[0;34m\u001b[0m\u001b[0m\n\u001b[1;32m    247\u001b[0m     \u001b[0;32mdef\u001b[0m \u001b[0m_run_script\u001b[0m\u001b[0;34m(\u001b[0m\u001b[0mself\u001b[0m\u001b[0;34m,\u001b[0m \u001b[0mp\u001b[0m\u001b[0;34m,\u001b[0m \u001b[0mcell\u001b[0m\u001b[0;34m,\u001b[0m \u001b[0mto_close\u001b[0m\u001b[0;34m)\u001b[0m\u001b[0;34m:\u001b[0m\u001b[0;34m\u001b[0m\u001b[0;34m\u001b[0m\u001b[0m\n",
      "\u001b[0;31mCalledProcessError\u001b[0m: Command 'b'source activate metsim_whw\\nms MetSim-tutorial-master/test.conf -v -n 2\\n'' returned non-zero exit status 1."
     ]
    }
   ],
   "source": [
    "%%bash\n",
    "source activate metsim_whw\n",
    "ms MetSim-tutorial-master/test.conf -v -n 2"
   ]
  },
  {
   "cell_type": "code",
   "execution_count": null,
   "metadata": {},
   "outputs": [],
   "source": [
    "import numpy as np\n",
    "import pandas as pd\n",
    "import time\n",
    "import datetime as dt\n",
    "import sys \n",
    "import os\n",
    "import matplotlib.pyplot as plt\n",
    "import scipy.stats as ss\n",
    "from metsim import MetSim"
   ]
  },
  {
   "cell_type": "code",
   "execution_count": null,
   "metadata": {},
   "outputs": [],
   "source": [
    "# PROGRAM INITIALIZATION OPTIONS\n",
    "\n",
    "ymi = 'yearmonth' # Year month index\n",
    "#  Synthetic data generating parameters\n",
    "OF = 2 # A multiplier (integer) for continuing out the synthetic forcing data record past the original NLDAS.\n",
    "PRECIP_PARAMETER1 = 0.75 #  Synthetic data generating parameters\n",
    "PRECIP_PARAMETER2 = 0.25\n",
    "TEMP_PARM1 = 0.25\n",
    "TEMP_PARM2 = 5.8\n",
    "TEMP_PARM3 = 0.09\n",
    "TEMP_PARM4 = 5.2\n",
    "TEMP_PARM5 = 0.13\n",
    "nGauges = 673 # Setting nGauges to be known number of gauges in CAMELS\n",
    "count_basins = 0 # just a value to keep track of loops\n",
    "max_basins = 1 # Stopping the loop after this many basins, for testing the script.\n",
    "np.set_printoptions(threshold=sys.maxsize)# print options for generating the results files."
   ]
  },
  {
   "cell_type": "code",
   "execution_count": null,
   "metadata": {},
   "outputs": [],
   "source": [
    "#Store all attributes. Really just need basin area, but the rest might come in handy.\n",
    "att_path = \"/home/NearingLab/data/camels_attributes_v2.0/camels_all.txt\"\n",
    "attributes = pd.read_csv(att_path, sep=\";\")\n",
    "attributes.set_index('gauge_id', inplace=True)\n",
    "#data directory path\n",
    "df_path = \"/home/NearingLab/projects/jmframe/CAMELS_synthData/nldas_forcing/\""
   ]
  },
  {
   "cell_type": "code",
   "execution_count": null,
   "metadata": {},
   "outputs": [],
   "source": [
    "dataSample = pd.read_csv(df_path+'13240000_lump_nldas_forcing_leap.txt',sep='\\t| ',header=3, engine='python')\n",
    "dataSample.head()"
   ]
  },
  {
   "cell_type": "code",
   "execution_count": null,
   "metadata": {},
   "outputs": [],
   "source": [
    "count_basins = 0 # just a value to keep track of loops\n",
    "# Loop through all the files in the forcing data directory.\n",
    "for filename in os.listdir(df_path):\n",
    "    print(filename)\n",
    "    \n",
    "    nforcing = './input/green_river_forcing.nc'\n",
    "    ndomain = './input/green_river_domain.nc'\n",
    "    nstate = './input/green_river_state.nc'\n",
    "    \n",
    "    dates = pd.date_range('1980/01/01', '1980/12/31')\n",
    "    params = {\n",
    "        'time_step'    : \"1440\",       \n",
    "        'start'        : dates[0],\n",
    "        'stop'         : dates[-1],\n",
    "        'forcing'      : nforcing,     \n",
    "        'domain'       : ndomain,\n",
    "        'state'        : nstate,\n",
    "        'forcing_fmt'  : 'netcdf',\n",
    "        'out_dir'      : './output',\n",
    "        'output_prefix': filename,\n",
    "        'scheduler'    : 'threading',\n",
    "        'chunks'       : {'hru': 3},\n",
    "        'forcing_vars' : {'prcp' : 'prec', 'tmax': 't_max', 'tmin': 't_min'},\n",
    "        'state_vars'   : {'prcp' : 'prec', 'tmax': 't_max', 'tmin': 't_min'},\n",
    "        'domain_vars'  : {'elevation': 'elev', 'latitude': 'lat', 'longitude': 'lon', 'mask': 'mask'}\n",
    "        }\n",
    "    \n",
    "\n",
    "    count_basins+=1\n",
    "    if count_basins >= max_basins:\n",
    "        break"
   ]
  },
  {
   "cell_type": "code",
   "execution_count": null,
   "metadata": {},
   "outputs": [],
   "source": [
    "# This is an example of an input file for MetSim\n",
    "[MetSim]\n",
    "\n",
    "# Time step in minutes\n",
    "time_step = 60\n",
    "\n",
    "# Forcings begin here (year/month/day:hour)\n",
    "start = 1950/1/1\n",
    "\n",
    "# Forcings end at this date (year/month/day)\n",
    "stop = 1950/1/31\n",
    "\n",
    "# Input specification\n",
    "forcing = ./tests/data/test.nc\n",
    "domain  = ./tests/data/domain.nc\n",
    "state = ./tests/data/state_nc.nc\n",
    "in_fmt = netcdf\n",
    "\n",
    "# Output specification\n",
    "out_dir = ./results\n",
    "out_prefix = forcing\n",
    "out_precision = f8\n",
    "\n",
    "[chunks]\n",
    "lat = 3\n",
    "lon = 3\n",
    "\n",
    "[forcing_vars]\n",
    "prec = Prec\n",
    "t_max = Tmax\n",
    "t_min = Tmin\n",
    "\n",
    "[state_vars]\n",
    "prec = prec\n",
    "t_max = t_max\n",
    "t_min = t_min\n",
    "\n",
    "[domain_vars]\n",
    "lat = lat\n",
    "lon = lon\n",
    "mask = mask\n",
    "elev = elev"
   ]
  }
 ],
 "metadata": {
  "kernelspec": {
   "display_name": "Python 3",
   "language": "python",
   "name": "python3"
  },
  "language_info": {
   "codemirror_mode": {
    "name": "ipython",
    "version": 3
   },
   "file_extension": ".py",
   "mimetype": "text/x-python",
   "name": "python",
   "nbconvert_exporter": "python",
   "pygments_lexer": "ipython3",
   "version": "3.7.6"
  }
 },
 "nbformat": 4,
 "nbformat_minor": 2
}
