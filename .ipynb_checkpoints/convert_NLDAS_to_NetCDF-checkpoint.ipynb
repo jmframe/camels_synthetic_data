{
 "cells": [
  {
   "cell_type": "code",
   "execution_count": null,
   "metadata": {},
   "outputs": [],
   "source": [
    "# This script is meant to convert the NLDAS data into NetCDF format\n",
    "# This will be used by the MetSim algorithm to create the radiation/vapor pressure"
   ]
  },
  {
   "cell_type": "code",
   "execution_count": null,
   "metadata": {},
   "outputs": [],
   "source": [
    "import cartopy\n",
    "import geoviews as gv\n",
    "#import geopandas as gpd\n",
    "import holoviews as hv\n",
    "import pandas as pd\n",
    "import xarray as xr\n",
    "from metsim import MetSim\n",
    "hv.notebook_extension('bokeh')\n",
    "import netCDF4 as nc"
   ]
  },
  {
   "cell_type": "code",
   "execution_count": null,
   "metadata": {},
   "outputs": [],
   "source": [
    "def NLDAS_TXT_TO_NETCDF(basinID):\n",
    "    # Write the NetCDF forcing data file.\n",
    "    directory = '/home/NearingLab/projects/jmframe/CAMELS_synthData/forc/'\n",
    "    #get this from camels attributes\n",
    "    latCatchment = 34.22223\n",
    "    lonCatchment = -118.17757\n",
    "    forcingDataName = directory + basinID + 'forcing.nc'\n",
    "    forcing = nc.Dataset(forcingDataName, 'w', format='NETCDF4_CLASSIC')\n",
    "    forcing.title = basinID +' forcing'\n",
    "    forcing.description = 'Forcing data for basin '+ basinID + ' in the CAMELS catchments'"
   ]
  },
  {
   "cell_type": "code",
   "execution_count": null,
   "metadata": {},
   "outputs": [],
   "source": [
    "basinID = '11098000'\n",
    "NLDAS_TXT_TO_NETCDF(basinID)"
   ]
  }
 ],
 "metadata": {
  "kernelspec": {
   "display_name": "Python 3",
   "language": "python",
   "name": "python3"
  },
  "language_info": {
   "codemirror_mode": {
    "name": "ipython",
    "version": 3
   },
   "file_extension": ".py",
   "mimetype": "text/x-python",
   "name": "python",
   "nbconvert_exporter": "python",
   "pygments_lexer": "ipython3",
   "version": "3.7.6"
  }
 },
 "nbformat": 4,
 "nbformat_minor": 4
}
