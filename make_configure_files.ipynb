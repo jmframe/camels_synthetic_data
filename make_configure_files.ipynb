{
 "cells": [
  {
   "cell_type": "code",
   "execution_count": 28,
   "metadata": {},
   "outputs": [],
   "source": [
    "###############################\n",
    "#Started on Thu June 7th 2020\n",
    "#@author: Jonathan Frame\n",
    "###############################\n",
    "# This program is designed to generate a configuration file for MetSim."
   ]
  },
  {
   "cell_type": "code",
   "execution_count": 29,
   "metadata": {},
   "outputs": [],
   "source": [
    "main_dir = '/home/NearingLab/projects/jmframe/CAMELS_synthData/'"
   ]
  },
  {
   "cell_type": "code",
   "execution_count": 30,
   "metadata": {},
   "outputs": [],
   "source": [
    "#Store all attributes. Really just need basin area, but the rest might come in handy.\n",
    "att_path = \"/home/NearingLab/data/camels_attributes_v2.0/camels_all.txt\"\n",
    "attributes = pd.read_csv(att_path, sep=\";\")\n",
    "attributes.set_index('gauge_id', inplace=True)"
   ]
  },
  {
   "cell_type": "code",
   "execution_count": 31,
   "metadata": {},
   "outputs": [],
   "source": [
    "def MAKE_CONFIGURATION_FILE(basinID):\n",
    "    basin_id_int = int(basinID)\n",
    "    basin_id_str = \"{:08}\".format(basin_id_int)\n",
    "    latCatchment = attributes.loc[basin_id_int,'gauge_lat']\n",
    "    lonCatchment = attributes.loc[basin_id_int,'gauge_lon']\n",
    "    config_file_path = main_dir + 'config_files/' + basin_id_str + '.conf'\n",
    "    with open(config_file_path, 'w') as cf:\n",
    "        cf.write(\"[MetSim]\\n\")\n",
    "\n",
    "        cf.write(\"\\n\")\n",
    "\n",
    "        cf.write(\"time_step = 60\\n\")\n",
    "        \n",
    "        cf.write(\"\\n\")\n",
    "\n",
    "        cf.write(\"start = 1980/1/1\\n\")\n",
    "\n",
    "        cf.write(\"\\n\")\n",
    "\n",
    "        cf.write(\"stop = 2014/1/31\\n\")\n",
    "\n",
    "        cf.write(\"\\n\")\n",
    "\n",
    "        cf.write('forcing = ./nldas_forcing_nc/' + basin_id_str + \"_forcing.nc\\n\")\n",
    "        cf.write('domain = ./nldas_domain_nc/' + basin_id_str + \"_domain.nc\\n\")\n",
    "        cf.write('state = ./nldas_state_nc/' + basin_id_str + \"_state.nc\\n\")\n",
    "\n",
    "        cf.write(\"\\n\")\n",
    "\n",
    "        cf.write(\"forcing_fmt = netcdf\\n\")\n",
    "\n",
    "        cf.write(\"\\n\")\n",
    "\n",
    "        cf.write(\"out_dir = ./output\\n\")\n",
    "        cf.write(\"output_prefix = \"+basin_id_str+\"\\n\")\n",
    "\n",
    "        cf.write(\"\\n\")\n",
    "        \n",
    "        cf.write(\"prec_type = triangle\\n\")\n",
    "\n",
    "        cf.write(\"\\n\")\n",
    "\n",
    "        cf.write(\"[chunks]\\n\")\n",
    "        cf.write(\"lat = 1\\n\")\n",
    "        cf.write(\"lon = 1\\n\")\n",
    "\n",
    "        cf.write(\"\\n\")\n",
    "\n",
    "        cf.write(\"[forcing_vars]\\n\")\n",
    "        cf.write(\"prec  = Prec\\n\")\n",
    "        cf.write(\"t_max = Tmax\\n\")\n",
    "        cf.write(\"t_min = Tmin\\n\")\n",
    "        cf.write(\"wind  = wind\\n\")\n",
    "\n",
    "        cf.write(\"\\n\")\n",
    "\n",
    "        cf.write(\"[state_vars]\\n\")\n",
    "        cf.write(\"prec  = prec\\n\")\n",
    "        cf.write(\"t_max = t_max\\n\")\n",
    "        cf.write(\"t_min = t_min\\n\")\n",
    "\n",
    "        cf.write(\"\\n\")\n",
    "\n",
    "        cf.write(\"[domain_vars]\\n\")\n",
    "        cf.write(\"lat  = lat\\n\")\n",
    "        cf.write(\"lon  = lon\\n\")\n",
    "        cf.write(\"mask = mask\\n\")\n",
    "        cf.write(\"elev = elev\\n\")\n",
    "        cf.write(\"t_pk = t_pk\\n\")\n",
    "        cf.write(\"dur  = dur\\n\")\n"
   ]
  },
  {
   "cell_type": "code",
   "execution_count": 32,
   "metadata": {},
   "outputs": [],
   "source": [
    "make_config_files = True\n",
    "if make_config_files:\n",
    "    for b in attributes.index.values:\n",
    "        MAKE_CONFIGURATION_FILE(b)"
   ]
  },
  {
   "cell_type": "code",
   "execution_count": null,
   "metadata": {},
   "outputs": [],
   "source": []
  }
 ],
 "metadata": {
  "kernelspec": {
   "display_name": "Python 3",
   "language": "python",
   "name": "python3"
  },
  "language_info": {
   "codemirror_mode": {
    "name": "ipython",
    "version": 3
   },
   "file_extension": ".py",
   "mimetype": "text/x-python",
   "name": "python",
   "nbconvert_exporter": "python",
   "pygments_lexer": "ipython3",
   "version": "3.7.6"
  }
 },
 "nbformat": 4,
 "nbformat_minor": 4
}
